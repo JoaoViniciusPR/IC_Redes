{
 "cells": [
  {
   "cell_type": "code",
   "execution_count": 1,
   "metadata": {},
   "outputs": [],
   "source": [
    "from ID import ID"
   ]
  },
  {
   "cell_type": "code",
   "execution_count": 2,
   "metadata": {},
   "outputs": [],
   "source": [
    "IJ=ID(\"joaoviniciuspr\",[\"Series\",\"Irmao_do_Jorel\",\"Temp1\",\"Ep1\"])"
   ]
  },
  {
   "cell_type": "code",
   "execution_count": 3,
   "metadata": {
    "scrolled": true
   },
   "outputs": [
    {
     "data": {
      "text/html": [
       "<div>\n",
       "<style scoped>\n",
       "    .dataframe tbody tr th:only-of-type {\n",
       "        vertical-align: middle;\n",
       "    }\n",
       "\n",
       "    .dataframe tbody tr th {\n",
       "        vertical-align: top;\n",
       "    }\n",
       "\n",
       "    .dataframe thead th {\n",
       "        text-align: right;\n",
       "    }\n",
       "</style>\n",
       "<table border=\"1\" class=\"dataframe\">\n",
       "  <thead>\n",
       "    <tr style=\"text-align: right;\">\n",
       "      <th></th>\n",
       "      <th>Label</th>\n",
       "      <th>Nick</th>\n",
       "    </tr>\n",
       "    <tr>\n",
       "      <th>ID</th>\n",
       "      <th></th>\n",
       "      <th></th>\n",
       "    </tr>\n",
       "  </thead>\n",
       "  <tbody>\n",
       "  </tbody>\n",
       "</table>\n",
       "</div>"
      ],
      "text/plain": [
       "Empty DataFrame\n",
       "Columns: [Label, Nick]\n",
       "Index: []"
      ]
     },
     "execution_count": 3,
     "metadata": {},
     "output_type": "execute_result"
    }
   ],
   "source": [
    "IJ.data()"
   ]
  },
  {
   "cell_type": "code",
   "execution_count": 4,
   "metadata": {},
   "outputs": [],
   "source": [
    "IJ.new('Irmao do Jorel','Irmao')\n",
    "IJ.new('Jorel')\n",
    "IJ.new('Nicolau','Nico')\n",
    "IJ.new('Dona Danuza','Mae')\n",
    "IJ.new('Sr Edson','Pai')\n",
    "IJ.new('Vovo Juliana','Juju')\n",
    "IJ.new('Vovo Gilda','Gigi')\n",
    "IJ.new('Lara')"
   ]
  },
  {
   "cell_type": "code",
   "execution_count": 5,
   "metadata": {},
   "outputs": [],
   "source": [
    "IJ.new('Gesonel','Geso')\n",
    "IJ.new('Funcionario da Shostners','Func')\n",
    "IJ.new('Debora','Deb')\n",
    "IJ.new('Catiane','Cat')\n",
    "IJ.new('Veronica','Vero')\n",
    "IJ.new('Flavia','Fla')\n",
    "IJ.new('Roberto Perdigotto','Perdi')\n",
    "IJ.new('William Shostners','Will')\n",
    "IJ.new('Steve Magal','Steve')\n",
    "IJ.new('Zaza')\n",
    "IJ.new('Rambozo','Rambo')\n",
    "IJ.new('Tosh','Dog')\n",
    "IJ.new('Patinador Dentuco','Pat1')\n",
    "IJ.new('Patinador de Oculos','Pat2')"
   ]
  },
  {
   "cell_type": "code",
   "execution_count": 11,
   "metadata": {},
   "outputs": [],
   "source": [
    "IJ.csv()"
   ]
  },
  {
   "cell_type": "code",
   "execution_count": 12,
   "metadata": {},
   "outputs": [
    {
     "name": "stdout",
     "output_type": "stream",
     "text": [
      "Esse personagem já está na lista\n",
      "Esse personagem já está na lista\n",
      "Esse personagem já está na lista\n",
      "Esse personagem já está na lista\n",
      "Esse personagem já está na lista\n",
      "Esse personagem já está na lista\n",
      "Esse personagem já está na lista\n",
      "Esse personagem já está na lista\n"
     ]
    }
   ],
   "source": [
    "#IJ.news([['Irmao do Jorel','Irmao'],'Jorel',['Nicolau','Nico'],['Dona Danuza','Mae'],['Sr Edson','Pai'],['Vovo Juliana','Juju'],['Vovo Gilda','Gigi'],'Lara'])"
   ]
  },
  {
   "cell_type": "code",
   "execution_count": 7,
   "metadata": {},
   "outputs": [
    {
     "name": "stdout",
     "output_type": "stream",
     "text": [
      "Label    Sr Edson\n",
      "Nick          Pai\n",
      "Name: 005, dtype: object\n",
      "Você realmente deseja deletar?s\n",
      "Deletado\n"
     ]
    }
   ],
   "source": [
    "#IJ.delete(5)"
   ]
  },
  {
   "cell_type": "code",
   "execution_count": 16,
   "metadata": {},
   "outputs": [],
   "source": [
    "#IJ.change(2,7)"
   ]
  },
  {
   "cell_type": "code",
   "execution_count": 21,
   "metadata": {
    "scrolled": true
   },
   "outputs": [
    {
     "name": "stdout",
     "output_type": "stream",
     "text": [
      "Label    Irmao do Jorel\n",
      "Nick              Irmao\n",
      "Name: 001, dtype: object\n",
      "Corrigir:\n",
      "\n",
      "Label    Jorel\n",
      "Nick          \n",
      "Name: 002, dtype: object\n",
      "Corrigir:change\n",
      "\n",
      "Trocar linha 002 pela linha: 7\n",
      "Label    Nicolau\n",
      "Nick        Nico\n",
      "Name: 003, dtype: object\n",
      "Corrigir:\n",
      "\n",
      "Label    Dona Danuza\n",
      "Nick             Mae\n",
      "Name: 004, dtype: object\n",
      "Corrigir:c\n",
      "\n",
      "Trocar Dona Danuza por: dona viada\n",
      "Trocar Mae por: viadona\n",
      "Label    Sr Edson\n",
      "Nick          Pai\n",
      "Name: 005, dtype: object\n",
      "Corrigir:\n",
      "\n",
      "Label    Vovo Juliana\n",
      "Nick             Juju\n",
      "Name: 006, dtype: object\n",
      "Corrigir:\n",
      "\n",
      "Label    Jorel\n",
      "Nick          \n",
      "Name: 007, dtype: object\n",
      "Corrigir:\n",
      "\n",
      "Label    Lara\n",
      "Nick         \n",
      "Name: 008, dtype: object\n",
      "Corrigir:\n",
      "\n"
     ]
    },
    {
     "data": {
      "text/html": [
       "<div>\n",
       "<style scoped>\n",
       "    .dataframe tbody tr th:only-of-type {\n",
       "        vertical-align: middle;\n",
       "    }\n",
       "\n",
       "    .dataframe tbody tr th {\n",
       "        vertical-align: top;\n",
       "    }\n",
       "\n",
       "    .dataframe thead th {\n",
       "        text-align: right;\n",
       "    }\n",
       "</style>\n",
       "<table border=\"1\" class=\"dataframe\">\n",
       "  <thead>\n",
       "    <tr style=\"text-align: right;\">\n",
       "      <th></th>\n",
       "      <th>Label</th>\n",
       "      <th>Nick</th>\n",
       "    </tr>\n",
       "    <tr>\n",
       "      <th>ID</th>\n",
       "      <th></th>\n",
       "      <th></th>\n",
       "    </tr>\n",
       "  </thead>\n",
       "  <tbody>\n",
       "    <tr>\n",
       "      <th>001</th>\n",
       "      <td>Irmao do Jorel</td>\n",
       "      <td>Irmao</td>\n",
       "    </tr>\n",
       "    <tr>\n",
       "      <th>002</th>\n",
       "      <td>Vovo Gilda</td>\n",
       "      <td>Gigi</td>\n",
       "    </tr>\n",
       "    <tr>\n",
       "      <th>003</th>\n",
       "      <td>Nicolau</td>\n",
       "      <td>Nico</td>\n",
       "    </tr>\n",
       "    <tr>\n",
       "      <th>004</th>\n",
       "      <td>dona viada</td>\n",
       "      <td>viadona</td>\n",
       "    </tr>\n",
       "    <tr>\n",
       "      <th>005</th>\n",
       "      <td>Sr Edson</td>\n",
       "      <td>Pai</td>\n",
       "    </tr>\n",
       "    <tr>\n",
       "      <th>006</th>\n",
       "      <td>Vovo Juliana</td>\n",
       "      <td>Juju</td>\n",
       "    </tr>\n",
       "    <tr>\n",
       "      <th>007</th>\n",
       "      <td>Jorel</td>\n",
       "      <td></td>\n",
       "    </tr>\n",
       "    <tr>\n",
       "      <th>008</th>\n",
       "      <td>Lara</td>\n",
       "      <td></td>\n",
       "    </tr>\n",
       "  </tbody>\n",
       "</table>\n",
       "</div>"
      ],
      "text/plain": [
       "              Label     Nick\n",
       "ID                          \n",
       "001  Irmao do Jorel    Irmao\n",
       "002      Vovo Gilda     Gigi\n",
       "003         Nicolau     Nico\n",
       "004      dona viada  viadona\n",
       "005        Sr Edson      Pai\n",
       "006    Vovo Juliana     Juju\n",
       "007           Jorel         \n",
       "008            Lara         "
      ]
     },
     "execution_count": 21,
     "metadata": {},
     "output_type": "execute_result"
    }
   ],
   "source": [
    "#IJ.review()"
   ]
  },
  {
   "cell_type": "code",
   "execution_count": 106,
   "metadata": {},
   "outputs": [
    {
     "data": {
      "text/html": [
       "<div>\n",
       "<style scoped>\n",
       "    .dataframe tbody tr th:only-of-type {\n",
       "        vertical-align: middle;\n",
       "    }\n",
       "\n",
       "    .dataframe tbody tr th {\n",
       "        vertical-align: top;\n",
       "    }\n",
       "\n",
       "    .dataframe thead th {\n",
       "        text-align: right;\n",
       "    }\n",
       "</style>\n",
       "<table border=\"1\" class=\"dataframe\">\n",
       "  <thead>\n",
       "    <tr style=\"text-align: right;\">\n",
       "      <th></th>\n",
       "      <th>Label</th>\n",
       "      <th>Nick</th>\n",
       "    </tr>\n",
       "    <tr>\n",
       "      <th>ID</th>\n",
       "      <th></th>\n",
       "      <th></th>\n",
       "    </tr>\n",
       "  </thead>\n",
       "  <tbody>\n",
       "    <tr>\n",
       "      <th>001</th>\n",
       "      <td>Irmao do Jorel</td>\n",
       "      <td>Irmao</td>\n",
       "    </tr>\n",
       "    <tr>\n",
       "      <th>002</th>\n",
       "      <td>Jorel</td>\n",
       "      <td>NaN</td>\n",
       "    </tr>\n",
       "    <tr>\n",
       "      <th>003</th>\n",
       "      <td>Nicolau</td>\n",
       "      <td>Nico</td>\n",
       "    </tr>\n",
       "    <tr>\n",
       "      <th>004</th>\n",
       "      <td>Dona Danuza</td>\n",
       "      <td>Mae</td>\n",
       "    </tr>\n",
       "    <tr>\n",
       "      <th>005</th>\n",
       "      <td>Sr Edson</td>\n",
       "      <td>Pai</td>\n",
       "    </tr>\n",
       "    <tr>\n",
       "      <th>006</th>\n",
       "      <td>Vovo Juliana</td>\n",
       "      <td>Juju</td>\n",
       "    </tr>\n",
       "    <tr>\n",
       "      <th>007</th>\n",
       "      <td>Vovo Gilda</td>\n",
       "      <td>Gigi</td>\n",
       "    </tr>\n",
       "    <tr>\n",
       "      <th>008</th>\n",
       "      <td>Lara</td>\n",
       "      <td>NaN</td>\n",
       "    </tr>\n",
       "  </tbody>\n",
       "</table>\n",
       "</div>"
      ],
      "text/plain": [
       "              Label   Nick\n",
       "ID                        \n",
       "001  Irmao do Jorel  Irmao\n",
       "002           Jorel    NaN\n",
       "003         Nicolau   Nico\n",
       "004     Dona Danuza    Mae\n",
       "005        Sr Edson    Pai\n",
       "006    Vovo Juliana   Juju\n",
       "007      Vovo Gilda   Gigi\n",
       "008            Lara    NaN"
      ]
     },
     "execution_count": 106,
     "metadata": {},
     "output_type": "execute_result"
    }
   ],
   "source": [
    "e=pd.read_csv('Irmao_do_Jorel_Ep1_Node.csv',dtype=str)\n",
    "e = e.set_index(\"ID\")\n",
    "e"
   ]
  },
  {
   "cell_type": "code",
   "execution_count": 125,
   "metadata": {},
   "outputs": [],
   "source": [
    "e.to_excel(\"/dados/home/joaoviniciuspr/IC_Redes/Trabalhos/Irmao_do_Jorel/Temp1/Ep1/teste.xls\")"
   ]
  },
  {
   "cell_type": "code",
   "execution_count": 26,
   "metadata": {},
   "outputs": [
    {
     "data": {
      "text/plain": [
       "True"
      ]
     },
     "execution_count": 26,
     "metadata": {},
     "output_type": "execute_result"
    }
   ],
   "source": [
    "user = \"joao\"\n",
    "type(user)==str"
   ]
  },
  {
   "cell_type": "code",
   "execution_count": 27,
   "metadata": {},
   "outputs": [
    {
     "data": {
      "text/plain": [
       "1"
      ]
     },
     "execution_count": 27,
     "metadata": {},
     "output_type": "execute_result"
    }
   ],
   "source": [
    "int(\"0000001\")"
   ]
  },
  {
   "cell_type": "code",
   "execution_count": null,
   "metadata": {},
   "outputs": [],
   "source": []
  }
 ],
 "metadata": {
  "kernelspec": {
   "display_name": "Python 3",
   "language": "python",
   "name": "python3"
  },
  "language_info": {
   "codemirror_mode": {
    "name": "ipython",
    "version": 3
   },
   "file_extension": ".py",
   "mimetype": "text/x-python",
   "name": "python",
   "nbconvert_exporter": "python",
   "pygments_lexer": "ipython3",
   "version": "3.5.2"
  }
 },
 "nbformat": 4,
 "nbformat_minor": 2
}
