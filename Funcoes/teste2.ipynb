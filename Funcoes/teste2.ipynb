{
 "cells": [
  {
   "cell_type": "code",
   "execution_count": 1,
   "metadata": {},
   "outputs": [],
   "source": [
    "import pandas as pd"
   ]
  },
  {
   "cell_type": "code",
   "execution_count": 2,
   "metadata": {},
   "outputs": [],
   "source": [
    "from ID import ID\n",
    "from Scene import Scene"
   ]
  },
  {
   "cell_type": "code",
   "execution_count": 3,
   "metadata": {},
   "outputs": [],
   "source": [
    "directory='/dados/home/joaoviniciuspr/IC_Redes/Trabalhos/Series/Irmao_do_Jorel/Temp1/Ep1'"
   ]
  },
  {
   "cell_type": "code",
   "execution_count": 4,
   "metadata": {},
   "outputs": [
    {
     "data": {
      "text/html": [
       "<div>\n",
       "<style scoped>\n",
       "    .dataframe tbody tr th:only-of-type {\n",
       "        vertical-align: middle;\n",
       "    }\n",
       "\n",
       "    .dataframe tbody tr th {\n",
       "        vertical-align: top;\n",
       "    }\n",
       "\n",
       "    .dataframe thead th {\n",
       "        text-align: right;\n",
       "    }\n",
       "</style>\n",
       "<table border=\"1\" class=\"dataframe\">\n",
       "  <thead>\n",
       "    <tr style=\"text-align: right;\">\n",
       "      <th></th>\n",
       "      <th>Label</th>\n",
       "      <th>Nick</th>\n",
       "    </tr>\n",
       "    <tr>\n",
       "      <th>ID</th>\n",
       "      <th></th>\n",
       "      <th></th>\n",
       "    </tr>\n",
       "  </thead>\n",
       "  <tbody>\n",
       "    <tr>\n",
       "      <th>001</th>\n",
       "      <td>Irmao do Jorel</td>\n",
       "      <td>irmao</td>\n",
       "    </tr>\n",
       "    <tr>\n",
       "      <th>002</th>\n",
       "      <td>Jorel</td>\n",
       "      <td></td>\n",
       "    </tr>\n",
       "    <tr>\n",
       "      <th>003</th>\n",
       "      <td>Nicolau</td>\n",
       "      <td>nico</td>\n",
       "    </tr>\n",
       "    <tr>\n",
       "      <th>004</th>\n",
       "      <td>Dona Danuza</td>\n",
       "      <td>mae</td>\n",
       "    </tr>\n",
       "    <tr>\n",
       "      <th>005</th>\n",
       "      <td>Sr Edson</td>\n",
       "      <td>pai</td>\n",
       "    </tr>\n",
       "    <tr>\n",
       "      <th>006</th>\n",
       "      <td>Vovo Juliana</td>\n",
       "      <td>juju</td>\n",
       "    </tr>\n",
       "    <tr>\n",
       "      <th>007</th>\n",
       "      <td>Vovo Gilda</td>\n",
       "      <td>gigi</td>\n",
       "    </tr>\n",
       "    <tr>\n",
       "      <th>008</th>\n",
       "      <td>Lara</td>\n",
       "      <td></td>\n",
       "    </tr>\n",
       "    <tr>\n",
       "      <th>009</th>\n",
       "      <td>Gesonel</td>\n",
       "      <td>geso</td>\n",
       "    </tr>\n",
       "    <tr>\n",
       "      <th>010</th>\n",
       "      <td>Funcionario da Shostners</td>\n",
       "      <td>func</td>\n",
       "    </tr>\n",
       "    <tr>\n",
       "      <th>011</th>\n",
       "      <td>Debora</td>\n",
       "      <td>deb</td>\n",
       "    </tr>\n",
       "    <tr>\n",
       "      <th>012</th>\n",
       "      <td>Catiane</td>\n",
       "      <td>cat</td>\n",
       "    </tr>\n",
       "    <tr>\n",
       "      <th>013</th>\n",
       "      <td>Veronica</td>\n",
       "      <td>vero</td>\n",
       "    </tr>\n",
       "    <tr>\n",
       "      <th>014</th>\n",
       "      <td>Flavia</td>\n",
       "      <td>fla</td>\n",
       "    </tr>\n",
       "    <tr>\n",
       "      <th>015</th>\n",
       "      <td>Roberto Perdigotto</td>\n",
       "      <td>perdi</td>\n",
       "    </tr>\n",
       "    <tr>\n",
       "      <th>016</th>\n",
       "      <td>William Shostners</td>\n",
       "      <td>will</td>\n",
       "    </tr>\n",
       "    <tr>\n",
       "      <th>017</th>\n",
       "      <td>Steve Magal</td>\n",
       "      <td>steve</td>\n",
       "    </tr>\n",
       "    <tr>\n",
       "      <th>018</th>\n",
       "      <td>Zaza</td>\n",
       "      <td></td>\n",
       "    </tr>\n",
       "    <tr>\n",
       "      <th>019</th>\n",
       "      <td>Rambozo</td>\n",
       "      <td>rambo</td>\n",
       "    </tr>\n",
       "    <tr>\n",
       "      <th>020</th>\n",
       "      <td>Tosh</td>\n",
       "      <td>dog</td>\n",
       "    </tr>\n",
       "    <tr>\n",
       "      <th>021</th>\n",
       "      <td>Patinador Dentuco</td>\n",
       "      <td>pat1</td>\n",
       "    </tr>\n",
       "    <tr>\n",
       "      <th>022</th>\n",
       "      <td>Patinador de Oculos</td>\n",
       "      <td>pat2</td>\n",
       "    </tr>\n",
       "  </tbody>\n",
       "</table>\n",
       "</div>"
      ],
      "text/plain": [
       "                        Label   Nick\n",
       "ID                                  \n",
       "001            Irmao do Jorel  irmao\n",
       "002                     Jorel       \n",
       "003                   Nicolau   nico\n",
       "004               Dona Danuza    mae\n",
       "005                  Sr Edson    pai\n",
       "006              Vovo Juliana   juju\n",
       "007                Vovo Gilda   gigi\n",
       "008                      Lara       \n",
       "009                   Gesonel   geso\n",
       "010  Funcionario da Shostners   func\n",
       "011                    Debora    deb\n",
       "012                   Catiane    cat\n",
       "013                  Veronica   vero\n",
       "014                    Flavia    fla\n",
       "015        Roberto Perdigotto  perdi\n",
       "016         William Shostners   will\n",
       "017               Steve Magal  steve\n",
       "018                      Zaza       \n",
       "019                   Rambozo  rambo\n",
       "020                      Tosh    dog\n",
       "021         Patinador Dentuco   pat1\n",
       "022       Patinador de Oculos   pat2"
      ]
     },
     "execution_count": 4,
     "metadata": {},
     "output_type": "execute_result"
    }
   ],
   "source": [
    "IJ=ID(directory)\n",
    "IJ.importing()\n",
    "IJ.data()"
   ]
  },
  {
   "cell_type": "code",
   "execution_count": 13,
   "metadata": {},
   "outputs": [],
   "source": [
    "DF=pd.read_csv(directory+'/Scene.csv',dtype=str)\n",
    "DF=DF.set_index(\"Scene\")\n",
    "DF.fillna('',inplace=True)"
   ]
  },
  {
   "cell_type": "code",
   "execution_count": 14,
   "metadata": {},
   "outputs": [],
   "source": [
    "for i in DF.columns[0:4]:\n",
    "    DF[i] = pd.to_numeric(DF[i])\n",
    "    #DF[i]=DF[i].astype(str)"
   ]
  },
  {
   "cell_type": "code",
   "execution_count": 15,
   "metadata": {},
   "outputs": [
    {
     "data": {
      "text/plain": [
       "Min_i     int64\n",
       "Seg_i     int64\n",
       "Min_f     int64\n",
       "Seg_f     int64\n",
       "P1       object\n",
       "P2       object\n",
       "P3       object\n",
       "P4       object\n",
       "P5       object\n",
       "P6       object\n",
       "P7       object\n",
       "P8       object\n",
       "P9       object\n",
       "P10      object\n",
       "P11      object\n",
       "dtype: object"
      ]
     },
     "execution_count": 15,
     "metadata": {},
     "output_type": "execute_result"
    }
   ],
   "source": [
    "DF.dtypes"
   ]
  },
  {
   "cell_type": "code",
   "execution_count": null,
   "metadata": {},
   "outputs": [],
   "source": []
  }
 ],
 "metadata": {
  "kernelspec": {
   "display_name": "Python 3",
   "language": "python",
   "name": "python3"
  },
  "language_info": {
   "codemirror_mode": {
    "name": "ipython",
    "version": 3
   },
   "file_extension": ".py",
   "mimetype": "text/x-python",
   "name": "python",
   "nbconvert_exporter": "python",
   "pygments_lexer": "ipython3",
   "version": "3.5.2"
  }
 },
 "nbformat": 4,
 "nbformat_minor": 2
}
