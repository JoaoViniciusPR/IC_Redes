{
 "cells": [
  {
   "cell_type": "code",
   "execution_count": 1,
   "metadata": {},
   "outputs": [],
   "source": [
    "from ID import ID"
   ]
  },
  {
   "cell_type": "code",
   "execution_count": 2,
   "metadata": {},
   "outputs": [],
   "source": [
    "IJ=ID()"
   ]
  },
  {
   "cell_type": "code",
   "execution_count": 11,
   "metadata": {
    "scrolled": true
   },
   "outputs": [
    {
     "data": {
      "text/html": [
       "<div>\n",
       "<style scoped>\n",
       "    .dataframe tbody tr th:only-of-type {\n",
       "        vertical-align: middle;\n",
       "    }\n",
       "\n",
       "    .dataframe tbody tr th {\n",
       "        vertical-align: top;\n",
       "    }\n",
       "\n",
       "    .dataframe thead th {\n",
       "        text-align: right;\n",
       "    }\n",
       "</style>\n",
       "<table border=\"1\" class=\"dataframe\">\n",
       "  <thead>\n",
       "    <tr style=\"text-align: right;\">\n",
       "      <th></th>\n",
       "      <th>Label</th>\n",
       "      <th>Nick</th>\n",
       "    </tr>\n",
       "    <tr>\n",
       "      <th>ID</th>\n",
       "      <th></th>\n",
       "      <th></th>\n",
       "    </tr>\n",
       "  </thead>\n",
       "  <tbody>\n",
       "    <tr>\n",
       "      <th>001</th>\n",
       "      <td>Irmao do Jorel</td>\n",
       "      <td>Irmao</td>\n",
       "    </tr>\n",
       "    <tr>\n",
       "      <th>002</th>\n",
       "      <td>Jorel</td>\n",
       "      <td></td>\n",
       "    </tr>\n",
       "    <tr>\n",
       "      <th>003</th>\n",
       "      <td>Vovo Gilda</td>\n",
       "      <td>Gigi</td>\n",
       "    </tr>\n",
       "    <tr>\n",
       "      <th>004</th>\n",
       "      <td>Dona Danuza</td>\n",
       "      <td>Mae</td>\n",
       "    </tr>\n",
       "    <tr>\n",
       "      <th>005</th>\n",
       "      <td>Sr Edson</td>\n",
       "      <td>Pai</td>\n",
       "    </tr>\n",
       "    <tr>\n",
       "      <th>006</th>\n",
       "      <td>Vovo Juliana</td>\n",
       "      <td>Juju</td>\n",
       "    </tr>\n",
       "    <tr>\n",
       "      <th>007</th>\n",
       "      <td>Vovo Gilda</td>\n",
       "      <td>Gigi</td>\n",
       "    </tr>\n",
       "  </tbody>\n",
       "</table>\n",
       "</div>"
      ],
      "text/plain": [
       "              Label   Nick\n",
       "ID                        \n",
       "001  Irmao do Jorel  Irmao\n",
       "002           Jorel       \n",
       "003      Vovo Gilda   Gigi\n",
       "004     Dona Danuza    Mae\n",
       "005        Sr Edson    Pai\n",
       "006    Vovo Juliana   Juju\n",
       "007      Vovo Gilda   Gigi"
      ]
     },
     "execution_count": 11,
     "metadata": {},
     "output_type": "execute_result"
    }
   ],
   "source": [
    "IJ.data()"
   ]
  },
  {
   "cell_type": "code",
   "execution_count": 4,
   "metadata": {},
   "outputs": [],
   "source": [
    "IJ.new('Irmao do Jorel','Irmao')\n",
    "IJ.new('Jorel')\n",
    "IJ.new('Nicolau','Nico')\n",
    "IJ.new('Dona Danuza','Mae')\n",
    "IJ.new('Sr Edson','Pai')\n",
    "IJ.new('Vovo Juliana','Juju')\n",
    "IJ.new('Vovo Gilda','Gigi')\n",
    "IJ.new('Lara')"
   ]
  },
  {
   "cell_type": "code",
   "execution_count": 8,
   "metadata": {},
   "outputs": [
    {
     "name": "stdout",
     "output_type": "stream",
     "text": [
      "Label    Lara\n",
      "Nick         \n",
      "Name: 008, dtype: object\n",
      "Você realmente deseja deletar?s\n"
     ]
    }
   ],
   "source": [
    "IJ.delete()"
   ]
  },
  {
   "cell_type": "code",
   "execution_count": 10,
   "metadata": {},
   "outputs": [],
   "source": [
    "IJ.change(3,7)"
   ]
  },
  {
   "cell_type": "code",
   "execution_count": 29,
   "metadata": {
    "scrolled": true
   },
   "outputs": [
    {
     "name": "stdout",
     "output_type": "stream",
     "text": [
      "Label    Jorel\n",
      "Nick          \n",
      "Name: 001, dtype: object\n",
      "Corrigir:\n",
      "\n",
      "Label    Dona Danuza\n",
      "Nick             Mae\n",
      "Name: 002, dtype: object\n",
      "Corrigir:\n",
      "\n"
     ]
    },
    {
     "data": {
      "text/html": [
       "<div>\n",
       "<style scoped>\n",
       "    .dataframe tbody tr th:only-of-type {\n",
       "        vertical-align: middle;\n",
       "    }\n",
       "\n",
       "    .dataframe tbody tr th {\n",
       "        vertical-align: top;\n",
       "    }\n",
       "\n",
       "    .dataframe thead th {\n",
       "        text-align: right;\n",
       "    }\n",
       "</style>\n",
       "<table border=\"1\" class=\"dataframe\">\n",
       "  <thead>\n",
       "    <tr style=\"text-align: right;\">\n",
       "      <th></th>\n",
       "      <th>Label</th>\n",
       "      <th>Nick</th>\n",
       "    </tr>\n",
       "    <tr>\n",
       "      <th>ID</th>\n",
       "      <th></th>\n",
       "      <th></th>\n",
       "    </tr>\n",
       "  </thead>\n",
       "  <tbody>\n",
       "    <tr>\n",
       "      <th>001</th>\n",
       "      <td>Jorel</td>\n",
       "      <td></td>\n",
       "    </tr>\n",
       "    <tr>\n",
       "      <th>002</th>\n",
       "      <td>Dona Danuza</td>\n",
       "      <td>Mae</td>\n",
       "    </tr>\n",
       "  </tbody>\n",
       "</table>\n",
       "</div>"
      ],
      "text/plain": [
       "           Label Nick\n",
       "ID                   \n",
       "001        Jorel     \n",
       "002  Dona Danuza  Mae"
      ]
     },
     "execution_count": 29,
     "metadata": {},
     "output_type": "execute_result"
    }
   ],
   "source": [
    "IJ.review()"
   ]
  },
  {
   "cell_type": "code",
   "execution_count": 85,
   "metadata": {},
   "outputs": [],
   "source": [
    "IJ.novo('Gesonel, O Mestre dos Disfarces','Geso')\n",
    "IJ.novo('Funcionario da Shostners','FuncS&S')\n",
    "IJ.novo('Debora','Deb')\n",
    "IJ.novo('Catiane','Cat')\n",
    "IJ.novo('Veronica','Vero')\n",
    "IJ.novo('Flavia','Fla')\n",
    "IJ.novo('Roberto Perdigotto','Perdi')\n",
    "IJ.novo('William Shostners','Will')\n",
    "IJ.novo('Steve Magal','Magal')\n",
    "IJ.novo('Zaza')\n",
    "IJ.novo('Rambozo','Ramb')\n",
    "IJ.novo('Tosh','Dog')\n",
    "IJ.novo('Patinador Dentuco','Pat1')\n",
    "IJ.novo('Patinador de Oculos','Pat2')"
   ]
  },
  {
   "cell_type": "code",
   "execution_count": 28,
   "metadata": {},
   "outputs": [
    {
     "name": "stdout",
     "output_type": "stream",
     "text": [
      "Label    Dona Danuza\n",
      "Nick             Mae\n",
      "Name: 002, dtype: object\n",
      "Você realmente deseja deletar?\n"
     ]
    }
   ],
   "source": [
    "IJ.delete('000')"
   ]
  },
  {
   "cell_type": "code",
   "execution_count": 106,
   "metadata": {},
   "outputs": [
    {
     "data": {
      "text/html": [
       "<div>\n",
       "<style scoped>\n",
       "    .dataframe tbody tr th:only-of-type {\n",
       "        vertical-align: middle;\n",
       "    }\n",
       "\n",
       "    .dataframe tbody tr th {\n",
       "        vertical-align: top;\n",
       "    }\n",
       "\n",
       "    .dataframe thead th {\n",
       "        text-align: right;\n",
       "    }\n",
       "</style>\n",
       "<table border=\"1\" class=\"dataframe\">\n",
       "  <thead>\n",
       "    <tr style=\"text-align: right;\">\n",
       "      <th></th>\n",
       "      <th>Label</th>\n",
       "      <th>Nick</th>\n",
       "    </tr>\n",
       "    <tr>\n",
       "      <th>ID</th>\n",
       "      <th></th>\n",
       "      <th></th>\n",
       "    </tr>\n",
       "  </thead>\n",
       "  <tbody>\n",
       "    <tr>\n",
       "      <th>001</th>\n",
       "      <td>Irmao do Jorel</td>\n",
       "      <td>Irmao</td>\n",
       "    </tr>\n",
       "    <tr>\n",
       "      <th>002</th>\n",
       "      <td>Jorel</td>\n",
       "      <td>NaN</td>\n",
       "    </tr>\n",
       "    <tr>\n",
       "      <th>003</th>\n",
       "      <td>Nicolau</td>\n",
       "      <td>Nico</td>\n",
       "    </tr>\n",
       "    <tr>\n",
       "      <th>004</th>\n",
       "      <td>Dona Danuza</td>\n",
       "      <td>Mae</td>\n",
       "    </tr>\n",
       "    <tr>\n",
       "      <th>005</th>\n",
       "      <td>Sr Edson</td>\n",
       "      <td>Pai</td>\n",
       "    </tr>\n",
       "    <tr>\n",
       "      <th>006</th>\n",
       "      <td>Vovo Juliana</td>\n",
       "      <td>Juju</td>\n",
       "    </tr>\n",
       "    <tr>\n",
       "      <th>007</th>\n",
       "      <td>Vovo Gilda</td>\n",
       "      <td>Gigi</td>\n",
       "    </tr>\n",
       "    <tr>\n",
       "      <th>008</th>\n",
       "      <td>Lara</td>\n",
       "      <td>NaN</td>\n",
       "    </tr>\n",
       "  </tbody>\n",
       "</table>\n",
       "</div>"
      ],
      "text/plain": [
       "              Label   Nick\n",
       "ID                        \n",
       "001  Irmao do Jorel  Irmao\n",
       "002           Jorel    NaN\n",
       "003         Nicolau   Nico\n",
       "004     Dona Danuza    Mae\n",
       "005        Sr Edson    Pai\n",
       "006    Vovo Juliana   Juju\n",
       "007      Vovo Gilda   Gigi\n",
       "008            Lara    NaN"
      ]
     },
     "execution_count": 106,
     "metadata": {},
     "output_type": "execute_result"
    }
   ],
   "source": [
    "e=pd.read_csv('Irmao_do_Jorel_Ep1_Node.csv',dtype=str)\n",
    "e = e.set_index(\"ID\")\n",
    "e"
   ]
  },
  {
   "cell_type": "code",
   "execution_count": 43,
   "metadata": {},
   "outputs": [],
   "source": [
    "def ind(num):\n",
    "    a='00'+str(num)\n",
    "    b=a[-3:-1]+a[-1]\n",
    "    return b"
   ]
  },
  {
   "cell_type": "code",
   "execution_count": 35,
   "metadata": {},
   "outputs": [],
   "source": [
    "import pandas as pd"
   ]
  },
  {
   "cell_type": "code",
   "execution_count": 52,
   "metadata": {},
   "outputs": [
    {
     "data": {
      "text/html": [
       "<div>\n",
       "<style scoped>\n",
       "    .dataframe tbody tr th:only-of-type {\n",
       "        vertical-align: middle;\n",
       "    }\n",
       "\n",
       "    .dataframe tbody tr th {\n",
       "        vertical-align: top;\n",
       "    }\n",
       "\n",
       "    .dataframe thead th {\n",
       "        text-align: right;\n",
       "    }\n",
       "</style>\n",
       "<table border=\"1\" class=\"dataframe\">\n",
       "  <thead>\n",
       "    <tr style=\"text-align: right;\">\n",
       "      <th></th>\n",
       "      <th>Label</th>\n",
       "      <th>Nick</th>\n",
       "    </tr>\n",
       "  </thead>\n",
       "  <tbody>\n",
       "    <tr>\n",
       "      <th>001</th>\n",
       "      <td>Irmao do Jorel</td>\n",
       "      <td>Irmao</td>\n",
       "    </tr>\n",
       "    <tr>\n",
       "      <th>002</th>\n",
       "      <td>Jorel</td>\n",
       "      <td></td>\n",
       "    </tr>\n",
       "    <tr>\n",
       "      <th>004</th>\n",
       "      <td>Sr Edson</td>\n",
       "      <td>Pai</td>\n",
       "    </tr>\n",
       "    <tr>\n",
       "      <th>005</th>\n",
       "      <td>Vovo Juliana</td>\n",
       "      <td>Juju</td>\n",
       "    </tr>\n",
       "    <tr>\n",
       "      <th>006</th>\n",
       "      <td>Vovo Gilda</td>\n",
       "      <td>Gigi</td>\n",
       "    </tr>\n",
       "    <tr>\n",
       "      <th>007</th>\n",
       "      <td>Lara</td>\n",
       "      <td></td>\n",
       "    </tr>\n",
       "  </tbody>\n",
       "</table>\n",
       "</div>"
      ],
      "text/plain": [
       "              Label   Nick\n",
       "001  Irmao do Jorel  Irmao\n",
       "002           Jorel       \n",
       "004        Sr Edson    Pai\n",
       "005    Vovo Juliana   Juju\n",
       "006      Vovo Gilda   Gigi\n",
       "007            Lara       "
      ]
     },
     "execution_count": 52,
     "metadata": {},
     "output_type": "execute_result"
    }
   ],
   "source": [
    "c=IJ.data()\n",
    "c=c.drop(['004'])\n",
    "a=c[0:2]\n",
    "b=pd.DataFrame(columns=['Label','Nick'])\n",
    "for i in range(5,9):\n",
    "    b.loc[ind(i-1),'Label':'Nick']=[c.loc[ind(i),'Label'],c.loc[ind(i),'Nick']]\n",
    "res=pd.concat([a,b])\n",
    "res"
   ]
  },
  {
   "cell_type": "code",
   "execution_count": 125,
   "metadata": {},
   "outputs": [],
   "source": [
    "e.to_excel(\"/dados/home/joaoviniciuspr/IC_Redes/Trabalhos/Irmao_do_Jorel/Temp1/Ep1/teste.xls\")"
   ]
  },
  {
   "cell_type": "code",
   "execution_count": null,
   "metadata": {},
   "outputs": [],
   "source": [
    "if line==0:\n",
    "            print(self.DF.iloc[line-1,:])\n",
    "            d=input('Você realmente deseja deletar?')\n",
    "            if d.lower()=='sim' or d.lower()=='s' or d.lower()=='yes':\n",
    "                self.DF = self.DF.drop([self.ind(self.DF.shape[0])])\n",
    "        else:"
   ]
  }
 ],
 "metadata": {
  "kernelspec": {
   "display_name": "Python 3",
   "language": "python",
   "name": "python3"
  },
  "language_info": {
   "codemirror_mode": {
    "name": "ipython",
    "version": 3
   },
   "file_extension": ".py",
   "mimetype": "text/x-python",
   "name": "python",
   "nbconvert_exporter": "python",
   "pygments_lexer": "ipython3",
   "version": "3.5.2"
  }
 },
 "nbformat": 4,
 "nbformat_minor": 2
}
