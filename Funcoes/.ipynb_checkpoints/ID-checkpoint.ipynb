{
 "cells": [
  {
   "cell_type": "code",
   "execution_count": null,
   "metadata": {},
   "outputs": [],
   "source": [
    "import pandas as pd"
   ]
  },
  {
   "cell_type": "markdown",
   "metadata": {},
   "source": [
    "# Classe - Tabela de IDs"
   ]
  },
  {
   "cell_type": "code",
   "execution_count": 80,
   "metadata": {},
   "outputs": [],
   "source": [
    "class ID:\n",
    "    def __init__(self):\n",
    "        self.DF=pd.DataFrame(columns=['Label','Nick'])\n",
    "        self.DF.index.name='ID'\n",
    "        \n",
    "    def data(self):\n",
    "        return self.DF\n",
    "        \n",
    "    def novo(self,label,nick=''):\n",
    "        if (self.proc(label)==False and nick=='') or (self.proc(label)==False and self.proc(nick)==False):\n",
    "            self.DF.loc[self.ind()]=[label,nick]\n",
    "            \n",
    "        else:\n",
    "            print('Esse personagem já está na lista')\n",
    "            \n",
    "    def novos(self,L):\n",
    "        for i in L:\n",
    "            if len(i)==1:\n",
    "                self.novo(i[0])\n",
    "            elif len(i)==2:\n",
    "                self.novo(i[0],i[1])\n",
    "    \n",
    "    def ind(self):\n",
    "        a='00'+str(self.DF.shape[0]+1)\n",
    "        b=a[-3:-1]+a[-1]\n",
    "        return b\n",
    "    \n",
    "    def proc(self,nome):\n",
    "        DF1=self.DF.Label==nome\n",
    "        v1=DF1.sum()\n",
    "        if v1>0:\n",
    "            return self.DF[self.DF.Label==nome].index[0]\n",
    "        DF2=self.DF.Nick==nome\n",
    "        v2=DF2.sum()\n",
    "        if v2>0:\n",
    "            return self.DF[self.DF.Nick==nome].index[0]\n",
    "        return False\n",
    "    \n",
    "    def corrigir(self,ind=-1):\n",
    "        a=input('Trocar '+self.DF.iloc[ind,0]+' por: ')\n",
    "        b=input('Trocar '+self.DF.iloc[ind,1]+' por: ')\n",
    "        if a!='':\n",
    "            self.DF.iloc[ind,0]=a\n",
    "        if b!='':\n",
    "            self.DF.iloc[ind,1]=b\n",
    "        \n",
    "    def revisao(self):\n",
    "        for i in range(1,self.DF.shape[0]):\n",
    "            print(self.DF.iloc[[i],:])\n",
    "            c=input('Corrigir:')\n",
    "            if c!='':\n",
    "                self.corrigir(i)\n",
    "                \n",
    "    def csv(self,nome):\n",
    "        self.DF.to_csv(nome+'_Node.csv')\n",
    "        \n",
    "    def excel(self,nome):\n",
    "        self.DF.to_excel(nome+'_Node.xlsx')"
   ]
  },
  {
   "cell_type": "code",
   "execution_count": 87,
   "metadata": {},
   "outputs": [],
   "source": [
    "IJ=ID()"
   ]
  },
  {
   "cell_type": "code",
   "execution_count": 90,
   "metadata": {
    "scrolled": true
   },
   "outputs": [
    {
     "data": {
      "text/html": [
       "<div>\n",
       "<style scoped>\n",
       "    .dataframe tbody tr th:only-of-type {\n",
       "        vertical-align: middle;\n",
       "    }\n",
       "\n",
       "    .dataframe tbody tr th {\n",
       "        vertical-align: top;\n",
       "    }\n",
       "\n",
       "    .dataframe thead th {\n",
       "        text-align: right;\n",
       "    }\n",
       "</style>\n",
       "<table border=\"1\" class=\"dataframe\">\n",
       "  <thead>\n",
       "    <tr style=\"text-align: right;\">\n",
       "      <th></th>\n",
       "      <th>Label</th>\n",
       "      <th>Nick</th>\n",
       "    </tr>\n",
       "    <tr>\n",
       "      <th>ID</th>\n",
       "      <th></th>\n",
       "      <th></th>\n",
       "    </tr>\n",
       "  </thead>\n",
       "  <tbody>\n",
       "    <tr>\n",
       "      <th>001</th>\n",
       "      <td>Irmao do Jorel</td>\n",
       "      <td>Irmao</td>\n",
       "    </tr>\n",
       "    <tr>\n",
       "      <th>002</th>\n",
       "      <td>Jorel</td>\n",
       "      <td></td>\n",
       "    </tr>\n",
       "    <tr>\n",
       "      <th>003</th>\n",
       "      <td>Nicolau</td>\n",
       "      <td>Nico</td>\n",
       "    </tr>\n",
       "    <tr>\n",
       "      <th>004</th>\n",
       "      <td>Dona Danuza</td>\n",
       "      <td>Mae</td>\n",
       "    </tr>\n",
       "    <tr>\n",
       "      <th>005</th>\n",
       "      <td>Sr Edson</td>\n",
       "      <td>Pai</td>\n",
       "    </tr>\n",
       "    <tr>\n",
       "      <th>006</th>\n",
       "      <td>Vovo Juliana</td>\n",
       "      <td>Juju</td>\n",
       "    </tr>\n",
       "    <tr>\n",
       "      <th>007</th>\n",
       "      <td>Vovo Gilda</td>\n",
       "      <td>Gigi</td>\n",
       "    </tr>\n",
       "    <tr>\n",
       "      <th>008</th>\n",
       "      <td>Lara</td>\n",
       "      <td></td>\n",
       "    </tr>\n",
       "  </tbody>\n",
       "</table>\n",
       "</div>"
      ],
      "text/plain": [
       "              Label   Nick\n",
       "ID                        \n",
       "001  Irmao do Jorel  Irmao\n",
       "002           Jorel       \n",
       "003         Nicolau   Nico\n",
       "004     Dona Danuza    Mae\n",
       "005        Sr Edson    Pai\n",
       "006    Vovo Juliana   Juju\n",
       "007      Vovo Gilda   Gigi\n",
       "008            Lara       "
      ]
     },
     "execution_count": 90,
     "metadata": {},
     "output_type": "execute_result"
    }
   ],
   "source": [
    "IJ.data()"
   ]
  },
  {
   "cell_type": "code",
   "execution_count": 89,
   "metadata": {},
   "outputs": [],
   "source": [
    "IJ.novo('Irmao do Jorel','Irmao')\n",
    "IJ.novo('Jorel')\n",
    "IJ.novo('Nicolau','Nico')\n",
    "IJ.novo('Dona Danuza','Mae')\n",
    "IJ.novo('Sr Edson','Pai')\n",
    "IJ.novo('Vovo Juliana','Juju')\n",
    "IJ.novo('Vovo Gilda','Gigi')\n",
    "IJ.novo('Lara')"
   ]
  },
  {
   "cell_type": "code",
   "execution_count": 85,
   "metadata": {},
   "outputs": [],
   "source": [
    "IJ.novo('Gesonel, O Mestre dos Disfarces','Geso')\n",
    "IJ.novo('Funcionario da Shostners','FuncS&S')\n",
    "IJ.novo('Debora','Deb')\n",
    "IJ.novo('Catiane','Cat')\n",
    "IJ.novo('Veronica','Vero')\n",
    "IJ.novo('Flavia','Fla')\n",
    "IJ.novo('Roberto Perdigotto','Perdi')\n",
    "IJ.novo('William Shostners','Will')\n",
    "IJ.novo('Steve Magal','Magal')\n",
    "IJ.novo('Zaza')\n",
    "IJ.novo('Rambozo','Ramb')\n",
    "IJ.novo('Tosh','Dog')\n",
    "IJ.novo('Patinador Dentuco','Pat1')\n",
    "IJ.novo('Patinador de Oculos','Pat2')"
   ]
  },
  {
   "cell_type": "code",
   "execution_count": 91,
   "metadata": {},
   "outputs": [
    {
     "name": "stdout",
     "output_type": "stream",
     "text": [
      "     Label Nick\n",
      "ID             \n",
      "002  Jorel     \n",
      "Corrigir:\n",
      "       Label  Nick\n",
      "ID                \n",
      "003  Nicolau  Nico\n",
      "Corrigir:\n",
      "           Label Nick\n",
      "ID                   \n",
      "004  Dona Danuza  Mae\n",
      "Corrigir:\n",
      "        Label Nick\n",
      "ID                \n",
      "005  Sr Edson  Pai\n",
      "Corrigir:\n",
      "            Label  Nick\n",
      "ID                     \n",
      "006  Vovo Juliana  Juju\n",
      "Corrigir:\n",
      "          Label  Nick\n",
      "ID                   \n",
      "007  Vovo Gilda  Gigi\n",
      "Corrigir:\n",
      "    Label Nick\n",
      "ID            \n",
      "008  Lara     \n",
      "Corrigir:\n"
     ]
    }
   ],
   "source": [
    "IJ.revisao()"
   ]
  },
  {
   "cell_type": "code",
   "execution_count": 92,
   "metadata": {},
   "outputs": [],
   "source": [
    "IJ.csv('Irmao_do_Jorel_Ep1')"
   ]
  },
  {
   "cell_type": "code",
   "execution_count": 106,
   "metadata": {},
   "outputs": [
    {
     "data": {
      "text/html": [
       "<div>\n",
       "<style scoped>\n",
       "    .dataframe tbody tr th:only-of-type {\n",
       "        vertical-align: middle;\n",
       "    }\n",
       "\n",
       "    .dataframe tbody tr th {\n",
       "        vertical-align: top;\n",
       "    }\n",
       "\n",
       "    .dataframe thead th {\n",
       "        text-align: right;\n",
       "    }\n",
       "</style>\n",
       "<table border=\"1\" class=\"dataframe\">\n",
       "  <thead>\n",
       "    <tr style=\"text-align: right;\">\n",
       "      <th></th>\n",
       "      <th>Label</th>\n",
       "      <th>Nick</th>\n",
       "    </tr>\n",
       "    <tr>\n",
       "      <th>ID</th>\n",
       "      <th></th>\n",
       "      <th></th>\n",
       "    </tr>\n",
       "  </thead>\n",
       "  <tbody>\n",
       "    <tr>\n",
       "      <th>001</th>\n",
       "      <td>Irmao do Jorel</td>\n",
       "      <td>Irmao</td>\n",
       "    </tr>\n",
       "    <tr>\n",
       "      <th>002</th>\n",
       "      <td>Jorel</td>\n",
       "      <td>NaN</td>\n",
       "    </tr>\n",
       "    <tr>\n",
       "      <th>003</th>\n",
       "      <td>Nicolau</td>\n",
       "      <td>Nico</td>\n",
       "    </tr>\n",
       "    <tr>\n",
       "      <th>004</th>\n",
       "      <td>Dona Danuza</td>\n",
       "      <td>Mae</td>\n",
       "    </tr>\n",
       "    <tr>\n",
       "      <th>005</th>\n",
       "      <td>Sr Edson</td>\n",
       "      <td>Pai</td>\n",
       "    </tr>\n",
       "    <tr>\n",
       "      <th>006</th>\n",
       "      <td>Vovo Juliana</td>\n",
       "      <td>Juju</td>\n",
       "    </tr>\n",
       "    <tr>\n",
       "      <th>007</th>\n",
       "      <td>Vovo Gilda</td>\n",
       "      <td>Gigi</td>\n",
       "    </tr>\n",
       "    <tr>\n",
       "      <th>008</th>\n",
       "      <td>Lara</td>\n",
       "      <td>NaN</td>\n",
       "    </tr>\n",
       "  </tbody>\n",
       "</table>\n",
       "</div>"
      ],
      "text/plain": [
       "              Label   Nick\n",
       "ID                        \n",
       "001  Irmao do Jorel  Irmao\n",
       "002           Jorel    NaN\n",
       "003         Nicolau   Nico\n",
       "004     Dona Danuza    Mae\n",
       "005        Sr Edson    Pai\n",
       "006    Vovo Juliana   Juju\n",
       "007      Vovo Gilda   Gigi\n",
       "008            Lara    NaN"
      ]
     },
     "execution_count": 106,
     "metadata": {},
     "output_type": "execute_result"
    }
   ],
   "source": [
    "e=pd.read_csv('Irmao_do_Jorel_Ep1_Node.csv',dtype=str)\n",
    "e = e.set_index(\"ID\")\n",
    "e"
   ]
  },
  {
   "cell_type": "code",
   "execution_count": 125,
   "metadata": {},
   "outputs": [],
   "source": [
    "e.to_excel(\"/dados/home/joaoviniciuspr/IC_Redes/Trabalhos/Irmao_do_Jorel/Temp1/Ep1/teste.xls\")"
   ]
  }
 ],
 "metadata": {
  "kernelspec": {
   "display_name": "Python 3",
   "language": "python",
   "name": "python3"
  },
  "language_info": {
   "codemirror_mode": {
    "name": "ipython",
    "version": 3
   },
   "file_extension": ".py",
   "mimetype": "text/x-python",
   "name": "python",
   "nbconvert_exporter": "python",
   "pygments_lexer": "ipython3",
   "version": "3.5.2"
  }
 },
 "nbformat": 4,
 "nbformat_minor": 2
}
