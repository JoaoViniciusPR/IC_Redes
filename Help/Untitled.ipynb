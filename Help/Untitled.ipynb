{
 "cells": [
  {
   "cell_type": "code",
   "execution_count": 1,
   "metadata": {},
   "outputs": [],
   "source": [
    "jupyterhub = '/dados/home/joaoviniciuspr'\n",
    "jupyterlab = '/Users/jjoao/OneDrive/Documentos/Faculdade'\n",
    "directory = jupyterlab+'/IC_Redes/Trabalhos/Series/Irmao_do_Jorel/Temp1/Ep1'\n",
    "import pandas as pd\n",
    "import sys\n",
    "sys.path.insert(0,jupyterlab+'/IC_Redes/Funcoes')\n",
    "from Scene import Scene"
   ]
  },
  {
   "cell_type": "code",
   "execution_count": 2,
   "metadata": {},
   "outputs": [],
   "source": [
    "IJ2=Scene(directory)\n",
    "IJ2.importing()\n",
    "#IJ2.review()"
   ]
  },
  {
   "cell_type": "code",
   "execution_count": 4,
   "metadata": {},
   "outputs": [
    {
     "name": "stdout",
     "output_type": "stream",
     "text": [
      "       Min_i Seg_i Min_f Seg_f Number              P1     P2       P3  \\\n",
      "Scene1     0    22     1    21      8             001    002      003   \n",
      "Names      0    22     1    21      8  irmao do jorel  jorel  nicolau   \n",
      "\n",
      "                 P4        P5            P6       P7    P8  \n",
      "Scene1          004       005           006      009   020  \n",
      "Names   dona danuza  sr edson  vovo juliana  gesonel  tosh  \n",
      "Está correto?\n",
      "       Min_i Seg_i Min_f Seg_f Number              P1     P2       P3  \\\n",
      "Scene2     1    22     1    57      8             001    002      003   \n",
      "Names      1    22     1    57      8  irmao do jorel  jorel  nicolau   \n",
      "\n",
      "                 P4        P5            P6       P7                        P8  \n",
      "Scene2          004       005           006      009                       010  \n",
      "Names   dona danuza  sr edson  vovo juliana  gesonel  funcionario da shostners  \n",
      "Está correto?\n",
      "       Min_i Seg_i Min_f Seg_f Number              P1       P2        P3    P4\n",
      "Scene3     1    58     2    26      4             001      003       005   008\n",
      "Names      1    58     2    26      4  irmao do jorel  nicolau  sr edson  lara\n",
      "Está correto?\n",
      "       Min_i Seg_i Min_f Seg_f Number     P1       P2        P3      P4  \\\n",
      "Scene4     2    27     3     7      7    002      003       005     011   \n",
      "Names      2    27     3     7      7  jorel  nicolau  sr edson  debora   \n",
      "\n",
      "             P5        P6      P7  \n",
      "Scene4      012       013     014  \n",
      "Names   catiane  veronica  flavia  \n",
      "Está correto?\n",
      "       Min_i Seg_i Min_f Seg_f Number              P1       P2        P3\n",
      "Scene5     3     8     3    23      3             001      003       005\n",
      "Names      3     8     3    23      3  irmao do jorel  nicolau  sr edson\n",
      "Está correto?\n",
      "       Min_i Seg_i Min_f Seg_f Number           P1        P2          P3  \\\n",
      "Scene6     3    24     4    23      9          004       005         007   \n",
      "Names      3    24     4    23      9  dona danuza  sr edson  vovo gilda   \n",
      "\n",
      "             P4                  P5                 P6    P7  \\\n",
      "Scene6      009                 015                016   018   \n",
      "Names   gesonel  roberto perdigotto  william shostners  zaza   \n",
      "\n",
      "                       P8                   P9  \n",
      "Scene6                021                  022  \n",
      "Names   patinador dentuco  patinador de oculos  \n",
      "Está correto?\n",
      "       Min_i Seg_i Min_f Seg_f Number              P1     P2       P3  \\\n",
      "Scene7     4    24     4    59     11             001    002      003   \n",
      "Names      4    24     4    59     11  irmao do jorel  jorel  nicolau   \n",
      "\n",
      "                 P4        P5            P6          P7       P8  \\\n",
      "Scene7          004       005           006         007      009   \n",
      "Names   dona danuza  sr edson  vovo juliana  vovo gilda  gesonel   \n",
      "\n",
      "                        P9                P10   P11  \n",
      "Scene7                 015                016   018  \n",
      "Names   roberto perdigotto  william shostners  zaza  \n",
      "Está correto?\n"
     ]
    }
   ],
   "source": [
    "IJ2.review()"
   ]
  },
  {
   "cell_type": "code",
   "execution_count": null,
   "metadata": {},
   "outputs": [],
   "source": []
  }
 ],
 "metadata": {
  "kernelspec": {
   "display_name": "Python 3",
   "language": "python",
   "name": "python3"
  },
  "language_info": {
   "codemirror_mode": {
    "name": "ipython",
    "version": 3
   },
   "file_extension": ".py",
   "mimetype": "text/x-python",
   "name": "python",
   "nbconvert_exporter": "python",
   "pygments_lexer": "ipython3",
   "version": "3.7.3"
  }
 },
 "nbformat": 4,
 "nbformat_minor": 2
}
