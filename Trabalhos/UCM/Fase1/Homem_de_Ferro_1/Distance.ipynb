{
 "cells": [
  {
   "cell_type": "markdown",
   "metadata": {},
   "source": [
    "# Calculando o menor caminho entre dois nós em um grafo"
   ]
  },
  {
   "cell_type": "markdown",
   "metadata": {},
   "source": [
    "OBS: Se for rodar no seu computador, mude o diretório abaixo:"
   ]
  },
  {
   "cell_type": "code",
   "execution_count": 1,
   "metadata": {},
   "outputs": [],
   "source": [
    "jupyterhub = '/dados/home/joaoviniciuspr'\n",
    "jupyterlab = '/Users/jjoao/OneDrive/Documentos/Faculdade'\n",
    "ju = jupyterhub\n",
    "directory = ju+'/IC_Redes/Trabalhos/UCM/Fase1/Homem_de_Ferro_1'"
   ]
  },
  {
   "cell_type": "code",
   "execution_count": 2,
   "metadata": {},
   "outputs": [],
   "source": [
    "import sys\n",
    "sys.path.insert(0,ju+'/IC_Redes/Funcoes')\n",
    "from ID import ID\n",
    "from Scene import Scene\n",
    "from Relation import Relation\n",
    "from Graph import Graph"
   ]
  },
  {
   "cell_type": "code",
   "execution_count": 3,
   "metadata": {},
   "outputs": [],
   "source": [
    "hf3=Graph(directory)"
   ]
  },
  {
   "cell_type": "markdown",
   "metadata": {},
   "source": [
    "## Função que utiliza o algoritmo Floyd Warshall "
   ]
  },
  {
   "cell_type": "markdown",
   "metadata": {},
   "source": [
    "OBS: Esse algoritmo calcula o menor caminho entre todos os pares de vértices do grafo, para já termos previamente calculado todas os caminhos e quando quisermos saber de um específico, o tempo para conseguir o resultado é somente o tempo de pegar a informação no dataframe (tempo constante)"
   ]
  },
  {
   "cell_type": "code",
   "execution_count": 4,
   "metadata": {},
   "outputs": [],
   "source": [
    "#hf3.all_shortest_paths()"
   ]
  },
  {
   "cell_type": "code",
   "execution_count": 5,
   "metadata": {},
   "outputs": [],
   "source": [
    "#hf3.shortest_path_csv()"
   ]
  },
  {
   "cell_type": "markdown",
   "metadata": {},
   "source": [
    "Como nesse caso já foi previamente calculado, só precisamos importá-lo"
   ]
  },
  {
   "cell_type": "code",
   "execution_count": 6,
   "metadata": {},
   "outputs": [],
   "source": [
    "hf3.importing_path()"
   ]
  },
  {
   "cell_type": "markdown",
   "metadata": {},
   "source": [
    "## Exemplos de menor caminho entre dois nós (Personagens)"
   ]
  },
  {
   "cell_type": "markdown",
   "metadata": {},
   "source": [
    "Para facilitar, existem diversas maneiras: Utilizamos o nome completo dos personagens"
   ]
  },
  {
   "cell_type": "code",
   "execution_count": 7,
   "metadata": {
    "scrolled": true
   },
   "outputs": [
    {
     "data": {
      "text/plain": [
       "'1 graus de distância: Tony Stark / Homem de Ferro -> Stan Lee'"
      ]
     },
     "execution_count": 7,
     "metadata": {},
     "output_type": "execute_result"
    }
   ],
   "source": [
    "hf3.shortest_path_between('Tony Stark','Stan Lee')"
   ]
  },
  {
   "cell_type": "markdown",
   "metadata": {},
   "source": [
    "Utilizando somente uma parte do nome (conseguimos encontrar o resto por expressão regular)"
   ]
  },
  {
   "cell_type": "code",
   "execution_count": 8,
   "metadata": {},
   "outputs": [
    {
     "data": {
      "text/plain": [
       "'1 graus de distância: Tony Stark / Homem de Ferro -> Stan Lee'"
      ]
     },
     "execution_count": 8,
     "metadata": {},
     "output_type": "execute_result"
    }
   ],
   "source": [
    "hf3.shortest_path_between('tony','lee')"
   ]
  },
  {
   "cell_type": "markdown",
   "metadata": {},
   "source": [
    "Ou ainda, utilizando os IDs deles"
   ]
  },
  {
   "cell_type": "code",
   "execution_count": 9,
   "metadata": {},
   "outputs": [
    {
     "data": {
      "text/plain": [
       "'1 graus de distância: Tony Stark / Homem de Ferro -> Stan Lee'"
      ]
     },
     "execution_count": 9,
     "metadata": {},
     "output_type": "execute_result"
    }
   ],
   "source": [
    "hf3.shortest_path_between('001','018')"
   ]
  },
  {
   "cell_type": "markdown",
   "metadata": {},
   "source": [
    "Outros exemplos:"
   ]
  },
  {
   "cell_type": "code",
   "execution_count": 10,
   "metadata": {},
   "outputs": [
    {
     "data": {
      "text/plain": [
       "'2 graus de distância: Phillip Coulson / Agente Coulson -> Tony Stark / Homem de Ferro -> Mulher do Stan 1'"
      ]
     },
     "execution_count": 10,
     "metadata": {},
     "output_type": "execute_result"
    }
   ],
   "source": [
    "hf3.shortest_path_between('Phillip Coulson','Mulher do Stan 1')"
   ]
  },
  {
   "cell_type": "code",
   "execution_count": 11,
   "metadata": {},
   "outputs": [
    {
     "data": {
      "text/plain": [
       "'2 graus de distância: Tony Stark / Homem de Ferro -> Obadiah Stane / Monge de Ferro -> Terrorista Omar'"
      ]
     },
     "execution_count": 11,
     "metadata": {},
     "output_type": "execute_result"
    }
   ],
   "source": [
    "hf3.shortest_path_between('Tony','Omar')"
   ]
  },
  {
   "cell_type": "markdown",
   "metadata": {},
   "source": [
    "## Máximo menor caminho entre dois nós no grafo"
   ]
  },
  {
   "cell_type": "markdown",
   "metadata": {},
   "source": [
    "A função pode retornar somente o número, chamado de diâmetro do grafo"
   ]
  },
  {
   "cell_type": "code",
   "execution_count": 12,
   "metadata": {},
   "outputs": [
    {
     "data": {
      "text/plain": [
       "4"
      ]
     },
     "execution_count": 12,
     "metadata": {},
     "output_type": "execute_result"
    }
   ],
   "source": [
    "hf3.max_shortest_path('number')"
   ]
  },
  {
   "cell_type": "markdown",
   "metadata": {},
   "source": [
    "Pode também retornar o dataframe com todas as informações dos maiores caminhos\n",
    "\n",
    "OBS: Note que há repetição, pois retorna os caminhos (050 063) e (063 050), devido ao fato que diferenciamos esses caminhos no código"
   ]
  },
  {
   "cell_type": "code",
   "execution_count": 13,
   "metadata": {},
   "outputs": [
    {
     "data": {
      "text/html": [
       "<div>\n",
       "<style scoped>\n",
       "    .dataframe tbody tr th:only-of-type {\n",
       "        vertical-align: middle;\n",
       "    }\n",
       "\n",
       "    .dataframe tbody tr th {\n",
       "        vertical-align: top;\n",
       "    }\n",
       "\n",
       "    .dataframe thead th {\n",
       "        text-align: right;\n",
       "    }\n",
       "</style>\n",
       "<table border=\"1\" class=\"dataframe\">\n",
       "  <thead>\n",
       "    <tr style=\"text-align: right;\">\n",
       "      <th></th>\n",
       "      <th>Source</th>\n",
       "      <th>Target</th>\n",
       "      <th>Distance</th>\n",
       "      <th>Path</th>\n",
       "    </tr>\n",
       "    <tr>\n",
       "      <th>ID</th>\n",
       "      <th></th>\n",
       "      <th></th>\n",
       "      <th></th>\n",
       "      <th></th>\n",
       "    </tr>\n",
       "  </thead>\n",
       "  <tbody>\n",
       "    <tr>\n",
       "      <th>5649</th>\n",
       "      <td>050</td>\n",
       "      <td>063</td>\n",
       "      <td>4</td>\n",
       "      <td>[050, 009, 001, 003, 063]</td>\n",
       "    </tr>\n",
       "    <tr>\n",
       "      <th>5685</th>\n",
       "      <td>050</td>\n",
       "      <td>099</td>\n",
       "      <td>4</td>\n",
       "      <td>[050, 009, 001, 003, 099]</td>\n",
       "    </tr>\n",
       "    <tr>\n",
       "      <th>5686</th>\n",
       "      <td>050</td>\n",
       "      <td>100</td>\n",
       "      <td>4</td>\n",
       "      <td>[050, 009, 001, 003, 100]</td>\n",
       "    </tr>\n",
       "    <tr>\n",
       "      <th>7118</th>\n",
       "      <td>063</td>\n",
       "      <td>050</td>\n",
       "      <td>4</td>\n",
       "      <td>[063, 003, 001, 009, 050]</td>\n",
       "    </tr>\n",
       "    <tr>\n",
       "      <th>7153</th>\n",
       "      <td>063</td>\n",
       "      <td>085</td>\n",
       "      <td>4</td>\n",
       "      <td>[063, 003, 001, 009, 085]</td>\n",
       "    </tr>\n",
       "    <tr>\n",
       "      <th>9639</th>\n",
       "      <td>085</td>\n",
       "      <td>063</td>\n",
       "      <td>4</td>\n",
       "      <td>[085, 009, 001, 003, 063]</td>\n",
       "    </tr>\n",
       "    <tr>\n",
       "      <th>9675</th>\n",
       "      <td>085</td>\n",
       "      <td>099</td>\n",
       "      <td>4</td>\n",
       "      <td>[085, 009, 001, 003, 099]</td>\n",
       "    </tr>\n",
       "    <tr>\n",
       "      <th>9676</th>\n",
       "      <td>085</td>\n",
       "      <td>100</td>\n",
       "      <td>4</td>\n",
       "      <td>[085, 009, 001, 003, 100]</td>\n",
       "    </tr>\n",
       "    <tr>\n",
       "      <th>11222</th>\n",
       "      <td>099</td>\n",
       "      <td>050</td>\n",
       "      <td>4</td>\n",
       "      <td>[099, 003, 001, 009, 050]</td>\n",
       "    </tr>\n",
       "    <tr>\n",
       "      <th>11257</th>\n",
       "      <td>099</td>\n",
       "      <td>085</td>\n",
       "      <td>4</td>\n",
       "      <td>[099, 003, 001, 009, 085]</td>\n",
       "    </tr>\n",
       "    <tr>\n",
       "      <th>11336</th>\n",
       "      <td>100</td>\n",
       "      <td>050</td>\n",
       "      <td>4</td>\n",
       "      <td>[100, 003, 001, 009, 050]</td>\n",
       "    </tr>\n",
       "    <tr>\n",
       "      <th>11371</th>\n",
       "      <td>100</td>\n",
       "      <td>085</td>\n",
       "      <td>4</td>\n",
       "      <td>[100, 003, 001, 009, 085]</td>\n",
       "    </tr>\n",
       "  </tbody>\n",
       "</table>\n",
       "</div>"
      ],
      "text/plain": [
       "      Source Target  Distance                       Path\n",
       "ID                                                      \n",
       "5649     050    063         4  [050, 009, 001, 003, 063]\n",
       "5685     050    099         4  [050, 009, 001, 003, 099]\n",
       "5686     050    100         4  [050, 009, 001, 003, 100]\n",
       "7118     063    050         4  [063, 003, 001, 009, 050]\n",
       "7153     063    085         4  [063, 003, 001, 009, 085]\n",
       "9639     085    063         4  [085, 009, 001, 003, 063]\n",
       "9675     085    099         4  [085, 009, 001, 003, 099]\n",
       "9676     085    100         4  [085, 009, 001, 003, 100]\n",
       "11222    099    050         4  [099, 003, 001, 009, 050]\n",
       "11257    099    085         4  [099, 003, 001, 009, 085]\n",
       "11336    100    050         4  [100, 003, 001, 009, 050]\n",
       "11371    100    085         4  [100, 003, 001, 009, 085]"
      ]
     },
     "execution_count": 13,
     "metadata": {},
     "output_type": "execute_result"
    }
   ],
   "source": [
    "hf3.max_shortest_path('dataframe')"
   ]
  },
  {
   "cell_type": "markdown",
   "metadata": {},
   "source": [
    "Pode retornar quais personagens definem os maiores caminhos (chamados de Nós periféricos, na Teoria dos Grafos)"
   ]
  },
  {
   "cell_type": "code",
   "execution_count": 14,
   "metadata": {},
   "outputs": [
    {
     "name": "stdout",
     "output_type": "stream",
     "text": [
      "4 graus de distância\n",
      "Terrorista 12 -> Jim Cramer\n",
      "Terrorista 12 -> Agente da Shield 2\n",
      "Terrorista 12 -> Agente da Shield 3\n",
      "Jim Cramer -> Terrorista 12\n",
      "Jim Cramer -> Motorista do Raza\n",
      "Motorista do Raza -> Jim Cramer\n",
      "Motorista do Raza -> Agente da Shield 2\n",
      "Motorista do Raza -> Agente da Shield 3\n",
      "Agente da Shield 2 -> Terrorista 12\n",
      "Agente da Shield 2 -> Motorista do Raza\n",
      "Agente da Shield 3 -> Terrorista 12\n",
      "Agente da Shield 3 -> Motorista do Raza\n"
     ]
    }
   ],
   "source": [
    "hf3.max_shortest_path('relation')"
   ]
  },
  {
   "cell_type": "markdown",
   "metadata": {},
   "source": [
    "E ainda, justamente os caminhos"
   ]
  },
  {
   "cell_type": "code",
   "execution_count": 15,
   "metadata": {},
   "outputs": [
    {
     "name": "stdout",
     "output_type": "stream",
     "text": [
      "4 graus de distância\n",
      "Terrorista 12 -> Raza -> Tony Stark / Homem de Ferro -> Pepper Potts -> Jim Cramer\n",
      "Terrorista 12 -> Raza -> Tony Stark / Homem de Ferro -> Pepper Potts -> Agente da Shield 2\n",
      "Terrorista 12 -> Raza -> Tony Stark / Homem de Ferro -> Pepper Potts -> Agente da Shield 3\n",
      "Jim Cramer -> Pepper Potts -> Tony Stark / Homem de Ferro -> Raza -> Terrorista 12\n",
      "Jim Cramer -> Pepper Potts -> Tony Stark / Homem de Ferro -> Raza -> Motorista do Raza\n",
      "Motorista do Raza -> Raza -> Tony Stark / Homem de Ferro -> Pepper Potts -> Jim Cramer\n",
      "Motorista do Raza -> Raza -> Tony Stark / Homem de Ferro -> Pepper Potts -> Agente da Shield 2\n",
      "Motorista do Raza -> Raza -> Tony Stark / Homem de Ferro -> Pepper Potts -> Agente da Shield 3\n",
      "Agente da Shield 2 -> Pepper Potts -> Tony Stark / Homem de Ferro -> Raza -> Terrorista 12\n",
      "Agente da Shield 2 -> Pepper Potts -> Tony Stark / Homem de Ferro -> Raza -> Motorista do Raza\n",
      "Agente da Shield 3 -> Pepper Potts -> Tony Stark / Homem de Ferro -> Raza -> Terrorista 12\n",
      "Agente da Shield 3 -> Pepper Potts -> Tony Stark / Homem de Ferro -> Raza -> Motorista do Raza\n"
     ]
    }
   ],
   "source": [
    "hf3.max_shortest_path('path')"
   ]
  },
  {
   "cell_type": "code",
   "execution_count": null,
   "metadata": {},
   "outputs": [],
   "source": []
  }
 ],
 "metadata": {
  "kernelspec": {
   "display_name": "Python 3",
   "language": "python",
   "name": "python3"
  },
  "language_info": {
   "codemirror_mode": {
    "name": "ipython",
    "version": 3
   },
   "file_extension": ".py",
   "mimetype": "text/x-python",
   "name": "python",
   "nbconvert_exporter": "python",
   "pygments_lexer": "ipython3",
   "version": "3.5.2"
  }
 },
 "nbformat": 4,
 "nbformat_minor": 2
}
