{
 "cells": [
  {
   "cell_type": "code",
   "execution_count": 1,
   "metadata": {},
   "outputs": [],
   "source": [
    "jupyterhub = '/dados/home/joaoviniciuspr'\n",
    "jupyterlab = '/Users/jjoao'\n",
    "directory = jupyterlab+'/IC_Redes/Trabalhos/Series/Irmao_do_Jorel/Temp1/Ep1'"
   ]
  },
  {
   "cell_type": "code",
   "execution_count": 2,
   "metadata": {},
   "outputs": [],
   "source": [
    "import pandas as pd\n",
    "import sys\n",
    "sys.path.insert(0,jupyterlab+'/IC_Redes/Funcoes')\n",
    "from ID import ID\n",
    "from Scene import Scene\n",
    "from Relation import Relation"
   ]
  },
  {
   "cell_type": "code",
   "execution_count": 3,
   "metadata": {},
   "outputs": [],
   "source": [
    "IJ=ID(directory)"
   ]
  },
  {
   "cell_type": "code",
   "execution_count": 4,
   "metadata": {},
   "outputs": [],
   "source": [
    "IJ.new('Irmao do Jorel','Irmao')\n",
    "IJ.new('Jorel')\n",
    "IJ.new('Nicolau','Nico')\n",
    "IJ.new('Dona Danuza','Mae')\n",
    "IJ.new('Sr Edson','Pai')\n",
    "IJ.new('Vovo Juliana','Juju')\n",
    "IJ.new('Vovo Gilda','Gigi')\n",
    "IJ.new('Lara')"
   ]
  },
  {
   "cell_type": "code",
   "execution_count": 5,
   "metadata": {},
   "outputs": [],
   "source": [
    "IJ.new('Gesonel','Geso')\n",
    "IJ.new('Funcionario da Shostners','Func')\n",
    "IJ.new('Debora','Deb')\n",
    "IJ.new('Catiane','Cat')\n",
    "IJ.new('Veronica','Vero')\n",
    "IJ.new('Flavia','Fla')\n",
    "IJ.new('Roberto Perdigotto','Perdi')\n",
    "IJ.new('William Shostners','Will')\n",
    "IJ.new('Steve Magal','Steve')\n",
    "IJ.new('Zaza')\n",
    "IJ.new('Rambozo','Rambo')\n",
    "IJ.new('Tosh','Dog')\n",
    "IJ.new('Patinador Dentuco','Pat1')\n",
    "IJ.new('Patinador de Oculos','Pat2')"
   ]
  },
  {
   "cell_type": "code",
   "execution_count": 6,
   "metadata": {},
   "outputs": [],
   "source": [
    "IJ.csv()"
   ]
  },
  {
   "cell_type": "code",
   "execution_count": 10,
   "metadata": {},
   "outputs": [],
   "source": [
    "IJ2=Scene(directory)\n",
    "IJ2.importing_id()"
   ]
  },
  {
   "cell_type": "code",
   "execution_count": 11,
   "metadata": {},
   "outputs": [],
   "source": [
    "IJ2.timei(0,22)\n",
    "IJ2.news([1,2,3,4,5,6,9,20])\n",
    "IJ2.timef(1,21)\n",
    "IJ2.news([1,2,3,4,5,6,9,10])\n",
    "IJ2.timef(1,57)\n",
    "IJ2.news([1,3,5,8])\n",
    "IJ2.timef(2,26)\n",
    "IJ2.news([2,3,5,11,12,13,14])\n",
    "IJ2.timef(3,7)\n",
    "IJ2.news([1,3,5])\n",
    "IJ2.timef(3,23)\n",
    "IJ2.news([5,7,9,15,4,16,18,21,22])\n",
    "IJ2.timef(4,23)\n",
    "IJ2.news([2,3,4,5,6,1,7,9,15,16,18])\n",
    "IJ2.timef(4,59)"
   ]
  },
  {
   "cell_type": "code",
   "execution_count": 12,
   "metadata": {},
   "outputs": [],
   "source": [
    "IJ2.csv()"
   ]
  },
  {
   "cell_type": "code",
   "execution_count": null,
   "metadata": {},
   "outputs": [],
   "source": []
  }
 ],
 "metadata": {
  "kernelspec": {
   "display_name": "Python 3",
   "language": "python",
   "name": "python3"
  },
  "language_info": {
   "codemirror_mode": {
    "name": "ipython",
    "version": 3
   },
   "file_extension": ".py",
   "mimetype": "text/x-python",
   "name": "python",
   "nbconvert_exporter": "python",
   "pygments_lexer": "ipython3",
   "version": "3.7.3"
  }
 },
 "nbformat": 4,
 "nbformat_minor": 2
}
